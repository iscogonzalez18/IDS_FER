{
 "cells": [
  {
   "cell_type": "code",
   "execution_count": null,
   "id": "f7ff933a",
   "metadata": {},
   "outputs": [],
   "source": []
  },
  {
   "cell_type": "markdown",
   "id": "565d8231",
   "metadata": {},
   "source": [
    "1. Load the cleaned dataset from the last exercise. If you haven't saved the dataset, rerun the exercise and save the final dataset."
   ]
  },
  {
   "cell_type": "code",
   "execution_count": null,
   "id": "ed36fe06",
   "metadata": {},
   "outputs": [],
   "source": []
  },
  {
   "cell_type": "markdown",
   "id": "5bd8059f",
   "metadata": {},
   "source": [
    "2. a) Find the mean, median and average scores in mathematics, reading and writing. <br>\n",
    "   b) Find the mean, median and average scores for males and females.<br>\n",
    "   c) What is the coefficient of variation of the scores? <br>"
   ]
  },
  {
   "cell_type": "code",
   "execution_count": null,
   "id": "50b4b85d",
   "metadata": {},
   "outputs": [],
   "source": []
  },
  {
   "cell_type": "markdown",
   "id": "70855546",
   "metadata": {},
   "source": [
    "3. a) Use a statistical test to test the hypothesis:<br>\n",
    "H0: the mean mathematical scores of females and males are equal.\n",
    "\n"
   ]
  },
  {
   "cell_type": "code",
   "execution_count": null,
   "id": "ef56f09c",
   "metadata": {},
   "outputs": [],
   "source": []
  },
  {
   "cell_type": "markdown",
   "id": "06ebfd52",
   "metadata": {},
   "source": [
    "4. a) Use a statistical test to test the hypothesis:<br>\n",
    "   H0 Gender did not affect the writing scores.<br>\n",
    "   H1 Gender affected the writing score.<br>"
   ]
  },
  {
   "cell_type": "code",
   "execution_count": null,
   "id": "e48b849b",
   "metadata": {},
   "outputs": [],
   "source": []
  },
  {
   "cell_type": "markdown",
   "id": "c46fde23",
   "metadata": {},
   "source": [
    "5. a) Statisticaly test the distribuitions of female and male scores across the three scores columns.<br>\n",
    "b) Plot the distributions for each of the separate scores in both genders. <br>"
   ]
  },
  {
   "cell_type": "code",
   "execution_count": null,
   "id": "7a30aad6",
   "metadata": {},
   "outputs": [],
   "source": []
  }
 ],
 "metadata": {
  "kernelspec": {
   "display_name": "Python 3 (ipykernel)",
   "language": "python",
   "name": "python3"
  },
  "language_info": {
   "codemirror_mode": {
    "name": "ipython",
    "version": 3
   },
   "file_extension": ".py",
   "mimetype": "text/x-python",
   "name": "python",
   "nbconvert_exporter": "python",
   "pygments_lexer": "ipython3",
   "version": "3.11.2"
  }
 },
 "nbformat": 4,
 "nbformat_minor": 5
}
