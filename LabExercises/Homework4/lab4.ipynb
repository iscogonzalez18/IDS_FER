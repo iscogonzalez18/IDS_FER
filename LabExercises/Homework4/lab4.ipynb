{
 "cells": [
  {
   "cell_type": "markdown",
   "id": "30e9ce05",
   "metadata": {},
   "source": [
    "# Laboratory exercise 4\n",
    "\n",
    "In this laboratory exercise you will use the questionnaire and answers given below"
   ]
  },
  {
   "cell_type": "code",
   "execution_count": 34,
   "id": "d6820020",
   "metadata": {},
   "outputs": [],
   "source": [
    "import pandas as pd\n",
    "import numpy as np\n",
    "import pingouin as pg"
   ]
  },
  {
   "cell_type": "code",
   "execution_count": 35,
   "id": "c53f916c",
   "metadata": {},
   "outputs": [],
   "source": [
    "questionnaire = pd.DataFrame({'Q1': [1, 2, 2, 3, 2, 2, 3, 3, 2, 3],\n",
    "                              'Q2': [1, 1, 1, 2, 3, 3, 2, 3, 3, 3],\n",
    "                              'Q3': [1, 1, 2, 1, 2, 3, 3, 3, 2, 3]})"
   ]
  },
  {
   "cell_type": "markdown",
   "id": "ce36a49d",
   "metadata": {},
   "source": [
    "1. Write a function to detrmine the realiability of the questionnaire answers with Cronbach's Alpha."
   ]
  },
  {
   "cell_type": "code",
   "execution_count": 36,
   "id": "de7b279d",
   "metadata": {},
   "outputs": [
    {
     "name": "stdout",
     "output_type": "stream",
     "text": [
      "(0.7734375, array([0.336, 0.939]))\n",
      "0.7742910373931704\n",
      " The internal consistency of the questionnaire is acceptable (0,7-0,8).\n"
     ]
    }
   ],
   "source": [
    "# The Cronbach's Alpha interval is wide because the number of samples is small.\n",
    "print(pg.cronbach_alpha(data=questionnaire))\n",
    "\n",
    "# The Cronbach's Alpha function\n",
    "N = questionnaire.shape[1] # Number of questions\n",
    "r = questionnaire.corr() # Correlation matrix\n",
    "# we only want the lower triangle of the correlation matrix\n",
    "r = np.tril(r, k=-1)\n",
    "r = r.sum() / 3\n",
    "alpha = (N * r) / (1 + (N - 1) * r) # Cronbach's Alpha\n",
    "print(alpha)\n",
    "\n",
    "print(\" The internal consistency of the questionnaire is acceptable (0,7-0,8).\")"
   ]
  },
  {
   "cell_type": "markdown",
   "id": "69cb9d0a",
   "metadata": {},
   "source": [
    "2. Explain the differences between in-house data labeling, crowdsourcing and outsourcing. "
   ]
  },
  {
   "cell_type": "code",
   "execution_count": 37,
   "id": "4cbbe1cc",
   "metadata": {},
   "outputs": [
    {
     "data": {
      "text/plain": [
       "'\\nIn-House Data Labeling:\\nDefinition: Internal team labels data.\\n\\nCrowdsourcing:\\nDefinition: Tasks outsourced to an online crowd.\\n\\nOutsourcing:\\nDefinition: External companies handle labeling.\\n\\n'"
      ]
     },
     "execution_count": 37,
     "metadata": {},
     "output_type": "execute_result"
    }
   ],
   "source": [
    "\"\"\"\n",
    "In-House Data Labeling:\n",
    "Definition: Internal team labels data.\n",
    "\n",
    "Crowdsourcing:\n",
    "Definition: Tasks outsourced to an online crowd.\n",
    "\n",
    "Outsourcing:\n",
    "Definition: External companies handle labeling.\n",
    "\n",
    "\"\"\""
   ]
  },
  {
   "cell_type": "markdown",
   "id": "ce3d3e91",
   "metadata": {},
   "source": [
    "3. Explain the main differences between annotation for image classification, object detection and image segmentation."
   ]
  },
  {
   "cell_type": "code",
   "execution_count": 38,
   "id": "e30655dc",
   "metadata": {},
   "outputs": [
    {
     "data": {
      "text/plain": [
       "'\\nImage classification:\\nDefinition: Assigning a label to an image.\\n\\nObject detection:\\nDefinition: Detecting objects in an image and assigning a label to each one.\\n\\nSemantic segmentation:\\nDefinition: Separete image objects from the background and other objects.\\n'"
      ]
     },
     "execution_count": 38,
     "metadata": {},
     "output_type": "execute_result"
    }
   ],
   "source": [
    "\"\"\"\n",
    "Image classification:\n",
    "Definition: Assigning a label to an image.\n",
    "\n",
    "Object detection:\n",
    "Definition: Detecting objects in an image and assigning a label to each one.\n",
    "\n",
    "Semantic segmentation:\n",
    "Definition: Separete image objects from the background and other objects.\n",
    "\"\"\""
   ]
  }
 ],
 "metadata": {
  "kernelspec": {
   "display_name": "Python 3 (ipykernel)",
   "language": "python",
   "name": "python3"
  },
  "language_info": {
   "codemirror_mode": {
    "name": "ipython",
    "version": 3
   },
   "file_extension": ".py",
   "mimetype": "text/x-python",
   "name": "python",
   "nbconvert_exporter": "python",
   "pygments_lexer": "ipython3",
   "version": "3.12.0"
  }
 },
 "nbformat": 4,
 "nbformat_minor": 5
}
