{
 "cells": [
  {
   "cell_type": "code",
   "execution_count": null,
   "id": "accb61bc",
   "metadata": {},
   "outputs": [],
   "source": []
  },
  {
   "cell_type": "markdown",
   "id": "17f56cdf",
   "metadata": {},
   "source": [
    "1. Load the cleaned dataset from the last exercise. If you haven't saved the dataset, rerun the first exercise and save the final dataset."
   ]
  },
  {
   "cell_type": "code",
   "execution_count": null,
   "id": "5c3f7ecc",
   "metadata": {},
   "outputs": [],
   "source": []
  },
  {
   "cell_type": "markdown",
   "id": "a0a4c99d",
   "metadata": {},
   "source": [
    "2. a) Draw a histogram of values for the feature MathScore. Set the number of bins to 20. <br>\n",
    "   b) With a vertical dashed red line denote the median value and with a vertical dashed green line denote the mean value. Set labels for each.<br>\n",
    "   c) Title the figure \"MathScore Histogram\". Add proper x and y axis labels. <br>\n",
    "   d) Add a grid. <br>\n",
    "   e) Add a legend, place it in the top left corner."
   ]
  },
  {
   "cell_type": "code",
   "execution_count": null,
   "id": "4077524b",
   "metadata": {},
   "outputs": [],
   "source": []
  },
  {
   "cell_type": "markdown",
   "id": "e70c48d4",
   "metadata": {},
   "source": [
    "3. a) Make a pie chart of the feature NrSiblings. <br>\n",
    "   b) Display the labels for each wedge. <br>\n",
    "   c) Display the percentages within edge wedge. <br>\n",
    "   d) Title the figure \"NrSiblings pie chart\"."
   ]
  },
  {
   "cell_type": "code",
   "execution_count": null,
   "id": "ef295030",
   "metadata": {},
   "outputs": [],
   "source": []
  },
  {
   "cell_type": "markdown",
   "id": "9c257673",
   "metadata": {},
   "source": [
    "4. a) Create a bar chart of the average ReadingScore for each ParentEduc group. <br>\n",
    "   b) Color each bar in a different color. Set the transparency of the bars to 0.7 <br>\n",
    "   c) Calculate the standard deviation of the ReadingScore and add a vertical errorbar to the bar tips."
   ]
  },
  {
   "cell_type": "code",
   "execution_count": null,
   "id": "934705a9",
   "metadata": {},
   "outputs": [],
   "source": []
  },
  {
   "cell_type": "markdown",
   "id": "39de1f57",
   "metadata": {},
   "source": [
    "5. a) Make a figure divided into 2 rows and 2 columns. Set the figure size to 30 by 30. <br>\n",
    "   b) In the top left axis:\n",
    "       1) Draw a line graph of the students' MathScores in descending order.\n",
    "       2) Color the span on the x axis for which the students' MathScores are less than 50 in red. Set transparency to 0.3.\n",
    "   c) In the top right axis:\n",
    "       1) Draw a scatter plot of MathScore vs ReadingScore. \n",
    "       2) Make the bubbles representing the female students yellow and the ones representing the male students purple. Add and display labels. Set transparency to 0.1.\n",
    "       3) Set the size of the bubbles to be 50*NrSiblings.\n",
    "   d) In the bottom left axis:\n",
    "       1) Draw a boxplot of the WrittingScore feature values.\n",
    "       2) Remove fliers from the boxplot.\n",
    "   e) In the borrom right axis:\n",
    "       1) Draw a bar plot of the number of students using each transportation method.\n",
    "       2) Make the bar plot stacked by coloring the part of the bar representing the number of students which are first ch-ildren in red and the ones who arent in blue. Add and display labels."
   ]
  },
  {
   "cell_type": "code",
   "execution_count": null,
   "id": "11a4f649",
   "metadata": {},
   "outputs": [],
   "source": []
  },
  {
   "cell_type": "markdown",
   "id": "1ad253da",
   "metadata": {},
   "source": [
    "6. a) Using seaborn, display a heatmap of the correlation coefficients between the numeric features. <br>\n",
    "   b) Set the figure size to 20 by 10. <br>\n",
    "   b) Make the heatmap display 2 decimal places of the values of the correlation coefficients. <br>\n",
    "   c) Use the \"icefire\" colormap."
   ]
  },
  {
   "cell_type": "code",
   "execution_count": null,
   "id": "7f81e7d3",
   "metadata": {},
   "outputs": [],
   "source": []
  },
  {
   "cell_type": "markdown",
   "id": "7b0b5e75",
   "metadata": {},
   "source": [
    "7. a) Make a scatterplot matrix of all the features. <br>\n",
    "   b) Remove mirroring scatter plots. <br>\n",
    "   c) Hue the plot by gender."
   ]
  },
  {
   "cell_type": "code",
   "execution_count": null,
   "id": "13b9065d",
   "metadata": {},
   "outputs": [],
   "source": []
  }
 ],
 "metadata": {
  "kernelspec": {
   "display_name": "Python 3 (ipykernel)",
   "language": "python",
   "name": "python3"
  },
  "language_info": {
   "codemirror_mode": {
    "name": "ipython",
    "version": 3
   },
   "file_extension": ".py",
   "mimetype": "text/x-python",
   "name": "python",
   "nbconvert_exporter": "python",
   "pygments_lexer": "ipython3",
   "version": "3.9.13"
  }
 },
 "nbformat": 4,
 "nbformat_minor": 5
}
