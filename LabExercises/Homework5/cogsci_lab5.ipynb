{
 "cells": [
  {
   "cell_type": "markdown",
   "metadata": {},
   "source": [
    "# Laboratory excercise 5\n",
    "\n",
    "The notebook contains excercise connected to the auditory excerice 6. For any questions feel free to contact assistant: eda.jovicic@fer.hr"
   ]
  },
  {
   "cell_type": "code",
   "execution_count": 1,
   "metadata": {},
   "outputs": [],
   "source": [
    "import pandas as pd\n",
    "import numpy as np\n",
    "import statsmodels.formula.api as smf\n",
    "\n",
    "# set seed for consistency\n",
    "np.random.seed(2)"
   ]
  },
  {
   "cell_type": "markdown",
   "metadata": {},
   "source": [
    "1. Load the cleaned dataset from the first exercise. If you haven't saved the dataset, rerun the exercise and save the final dataset."
   ]
  },
  {
   "cell_type": "code",
   "execution_count": 2,
   "metadata": {},
   "outputs": [
    {
     "data": {
      "text/html": [
       "<div>\n",
       "<style scoped>\n",
       "    .dataframe tbody tr th:only-of-type {\n",
       "        vertical-align: middle;\n",
       "    }\n",
       "\n",
       "    .dataframe tbody tr th {\n",
       "        vertical-align: top;\n",
       "    }\n",
       "\n",
       "    .dataframe thead th {\n",
       "        text-align: right;\n",
       "    }\n",
       "</style>\n",
       "<table border=\"1\" class=\"dataframe\">\n",
       "  <thead>\n",
       "    <tr style=\"text-align: right;\">\n",
       "      <th></th>\n",
       "      <th>StudentId</th>\n",
       "      <th>Gender</th>\n",
       "      <th>EthnicGroup</th>\n",
       "      <th>ParentEduc</th>\n",
       "      <th>LunchType</th>\n",
       "      <th>TestPrep</th>\n",
       "      <th>ParentMaritalStatus</th>\n",
       "      <th>PracticeSport</th>\n",
       "      <th>IsFirstChild</th>\n",
       "      <th>NrSiblings</th>\n",
       "      <th>TransportMeans</th>\n",
       "      <th>WklyStudyHours</th>\n",
       "      <th>MathScore</th>\n",
       "      <th>ReadingScore</th>\n",
       "      <th>WritingScore</th>\n",
       "      <th>Gender_female</th>\n",
       "      <th>Gender_male</th>\n",
       "      <th>LunchType_free/reduced</th>\n",
       "      <th>LunchType_standard</th>\n",
       "    </tr>\n",
       "    <tr>\n",
       "      <th>Unnamed: 0</th>\n",
       "      <th></th>\n",
       "      <th></th>\n",
       "      <th></th>\n",
       "      <th></th>\n",
       "      <th></th>\n",
       "      <th></th>\n",
       "      <th></th>\n",
       "      <th></th>\n",
       "      <th></th>\n",
       "      <th></th>\n",
       "      <th></th>\n",
       "      <th></th>\n",
       "      <th></th>\n",
       "      <th></th>\n",
       "      <th></th>\n",
       "      <th></th>\n",
       "      <th></th>\n",
       "      <th></th>\n",
       "      <th></th>\n",
       "    </tr>\n",
       "  </thead>\n",
       "  <tbody>\n",
       "    <tr>\n",
       "      <th>0.0</th>\n",
       "      <td>520645.0</td>\n",
       "      <td>female</td>\n",
       "      <td>2</td>\n",
       "      <td>1</td>\n",
       "      <td>standard</td>\n",
       "      <td>1</td>\n",
       "      <td>1</td>\n",
       "      <td>1</td>\n",
       "      <td>1</td>\n",
       "      <td>3.0</td>\n",
       "      <td>1</td>\n",
       "      <td>1</td>\n",
       "      <td>71.0</td>\n",
       "      <td>71.0</td>\n",
       "      <td>74.0</td>\n",
       "      <td>1.0</td>\n",
       "      <td>0.0</td>\n",
       "      <td>0.0</td>\n",
       "      <td>1.0</td>\n",
       "    </tr>\n",
       "    <tr>\n",
       "      <th>1.0</th>\n",
       "      <td>303683.0</td>\n",
       "      <td>female</td>\n",
       "      <td>2</td>\n",
       "      <td>5</td>\n",
       "      <td>standard</td>\n",
       "      <td>1</td>\n",
       "      <td>1</td>\n",
       "      <td>2</td>\n",
       "      <td>1</td>\n",
       "      <td>0.0</td>\n",
       "      <td>2</td>\n",
       "      <td>0</td>\n",
       "      <td>69.0</td>\n",
       "      <td>90.0</td>\n",
       "      <td>88.0</td>\n",
       "      <td>1.0</td>\n",
       "      <td>0.0</td>\n",
       "      <td>0.0</td>\n",
       "      <td>1.0</td>\n",
       "    </tr>\n",
       "    <tr>\n",
       "      <th>2.0</th>\n",
       "      <td>457351.0</td>\n",
       "      <td>female</td>\n",
       "      <td>1</td>\n",
       "      <td>3</td>\n",
       "      <td>standard</td>\n",
       "      <td>1</td>\n",
       "      <td>2</td>\n",
       "      <td>2</td>\n",
       "      <td>1</td>\n",
       "      <td>4.0</td>\n",
       "      <td>1</td>\n",
       "      <td>1</td>\n",
       "      <td>87.0</td>\n",
       "      <td>93.0</td>\n",
       "      <td>91.0</td>\n",
       "      <td>1.0</td>\n",
       "      <td>0.0</td>\n",
       "      <td>0.0</td>\n",
       "      <td>1.0</td>\n",
       "    </tr>\n",
       "    <tr>\n",
       "      <th>3.0</th>\n",
       "      <td>812988.0</td>\n",
       "      <td>male</td>\n",
       "      <td>0</td>\n",
       "      <td>0</td>\n",
       "      <td>free/reduced</td>\n",
       "      <td>1</td>\n",
       "      <td>1</td>\n",
       "      <td>0</td>\n",
       "      <td>0</td>\n",
       "      <td>1.0</td>\n",
       "      <td>2</td>\n",
       "      <td>0</td>\n",
       "      <td>45.0</td>\n",
       "      <td>56.0</td>\n",
       "      <td>42.0</td>\n",
       "      <td>0.0</td>\n",
       "      <td>1.0</td>\n",
       "      <td>1.0</td>\n",
       "      <td>0.0</td>\n",
       "    </tr>\n",
       "    <tr>\n",
       "      <th>4.0</th>\n",
       "      <td>594678.0</td>\n",
       "      <td>male</td>\n",
       "      <td>2</td>\n",
       "      <td>5</td>\n",
       "      <td>standard</td>\n",
       "      <td>1</td>\n",
       "      <td>1</td>\n",
       "      <td>2</td>\n",
       "      <td>1</td>\n",
       "      <td>0.0</td>\n",
       "      <td>1</td>\n",
       "      <td>0</td>\n",
       "      <td>76.0</td>\n",
       "      <td>78.0</td>\n",
       "      <td>75.0</td>\n",
       "      <td>0.0</td>\n",
       "      <td>1.0</td>\n",
       "      <td>0.0</td>\n",
       "      <td>1.0</td>\n",
       "    </tr>\n",
       "  </tbody>\n",
       "</table>\n",
       "</div>"
      ],
      "text/plain": [
       "            StudentId  Gender  EthnicGroup  ParentEduc     LunchType  \\\n",
       "Unnamed: 0                                                             \n",
       "0.0          520645.0  female            2           1      standard   \n",
       "1.0          303683.0  female            2           5      standard   \n",
       "2.0          457351.0  female            1           3      standard   \n",
       "3.0          812988.0    male            0           0  free/reduced   \n",
       "4.0          594678.0    male            2           5      standard   \n",
       "\n",
       "            TestPrep  ParentMaritalStatus  PracticeSport  IsFirstChild  \\\n",
       "Unnamed: 0                                                               \n",
       "0.0                1                    1              1             1   \n",
       "1.0                1                    1              2             1   \n",
       "2.0                1                    2              2             1   \n",
       "3.0                1                    1              0             0   \n",
       "4.0                1                    1              2             1   \n",
       "\n",
       "            NrSiblings  TransportMeans  WklyStudyHours  MathScore  \\\n",
       "Unnamed: 0                                                          \n",
       "0.0                3.0               1               1       71.0   \n",
       "1.0                0.0               2               0       69.0   \n",
       "2.0                4.0               1               1       87.0   \n",
       "3.0                1.0               2               0       45.0   \n",
       "4.0                0.0               1               0       76.0   \n",
       "\n",
       "            ReadingScore  WritingScore  Gender_female  Gender_male  \\\n",
       "Unnamed: 0                                                           \n",
       "0.0                 71.0          74.0            1.0          0.0   \n",
       "1.0                 90.0          88.0            1.0          0.0   \n",
       "2.0                 93.0          91.0            1.0          0.0   \n",
       "3.0                 56.0          42.0            0.0          1.0   \n",
       "4.0                 78.0          75.0            0.0          1.0   \n",
       "\n",
       "            LunchType_free/reduced  LunchType_standard  \n",
       "Unnamed: 0                                              \n",
       "0.0                            0.0                 1.0  \n",
       "1.0                            0.0                 1.0  \n",
       "2.0                            0.0                 1.0  \n",
       "3.0                            1.0                 0.0  \n",
       "4.0                            0.0                 1.0  "
      ]
     },
     "execution_count": 2,
     "metadata": {},
     "output_type": "execute_result"
    }
   ],
   "source": [
    "#load data\n",
    "df = pd.read_csv(\"../Homework1/students_score_clean.csv\",index_col = 0)\n",
    "df.head()"
   ]
  },
  {
   "cell_type": "markdown",
   "metadata": {},
   "source": [
    "2. Using linear regression, model the MathScore using features: TestPrep, NrSiblings, ParentMaritalStatus and ReadingScore. "
   ]
  },
  {
   "cell_type": "code",
   "execution_count": 12,
   "metadata": {},
   "outputs": [
    {
     "name": "stdout",
     "output_type": "stream",
     "text": [
      "                            OLS Regression Results                            \n",
      "==============================================================================\n",
      "Dep. Variable:              MathScore   R-squared:                       0.670\n",
      "Model:                            OLS   Adj. R-squared:                  0.670\n",
      "Method:                 Least Squares   F-statistic:                     8863.\n",
      "Date:                Wed, 03 Jan 2024   Prob (F-statistic):               0.00\n",
      "Time:                        19:04:35   Log-Likelihood:                -94075.\n",
      "No. Observations:               26163   AIC:                         1.882e+05\n",
      "Df Residuals:                   26156   BIC:                         1.882e+05\n",
      "Df Model:                           6                                         \n",
      "Covariance Type:            nonrobust                                         \n",
      "===============================================================================================\n",
      "                                  coef    std err          t      P>|t|      [0.025      0.975]\n",
      "-----------------------------------------------------------------------------------------------\n",
      "Intercept                       6.1012      0.331     18.458      0.000       5.453       6.749\n",
      "C(TestPrep)[T.1]                1.0979      0.119      9.212      0.000       0.864       1.332\n",
      "C(ParentMaritalStatus)[T.1]     0.2302      0.153      1.507      0.132      -0.069       0.530\n",
      "C(ParentMaritalStatus)[T.2]    -0.0300      0.176     -0.170      0.865      -0.375       0.316\n",
      "C(ParentMaritalStatus)[T.3]     0.7066      0.415      1.702      0.089      -0.107       1.520\n",
      "NrSiblings                      0.0195      0.038      0.517      0.605      -0.054       0.093\n",
      "ReadingScore                    0.8584      0.004    227.307      0.000       0.851       0.866\n",
      "==============================================================================\n",
      "Omnibus:                      227.299   Durbin-Watson:                   1.989\n",
      "Prob(Omnibus):                  0.000   Jarque-Bera (JB):              149.139\n",
      "Skew:                          -0.009   Prob(JB):                     4.12e-33\n",
      "Kurtosis:                       2.631   Cond. No.                         559.\n",
      "==============================================================================\n",
      "\n",
      "Notes:\n",
      "[1] Standard Errors assume that the covariance matrix of the errors is correctly specified.\n"
     ]
    }
   ],
   "source": [
    "# Declares the model\n",
    "mod = smf.ols(formula='MathScore ~ C(TestPrep) + NrSiblings + C(ParentMaritalStatus) + ReadingScore', data=df)\n",
    "\n",
    "# Fits the model\n",
    "res = mod.fit()\n",
    "\n",
    "# Print the summary\n",
    "print(res.summary())\n"
   ]
  },
  {
   "cell_type": "markdown",
   "metadata": {},
   "source": [
    "Questions:\n",
    "\n",
    "a) Using the summary, write down the formula with coefficients\n",
    "\n",
    "$MathScore = 6.1012 + 1.0979 * TestPrep + [0.2302,-0.03,0.7066] * ParentMaritalStatus + 0.0195 * NrSiblings + 0.8584 * ReadingScore$"
   ]
  },
  {
   "cell_type": "markdown",
   "metadata": {},
   "source": [
    "b) Are there any statisticaly important features?"
   ]
  },
  {
   "cell_type": "markdown",
   "metadata": {},
   "source": [
    "TestPrep and ReadingScore are statistically important features."
   ]
  },
  {
   "cell_type": "markdown",
   "metadata": {},
   "source": [
    "c) Let's interpret the data, if students do test preparation, how does that affect the outcome on the math exam? "
   ]
  },
  {
   "cell_type": "markdown",
   "metadata": {},
   "source": [
    "If students do test preparation, their math score will be higher by 1.0979 points."
   ]
  },
  {
   "cell_type": "markdown",
   "metadata": {},
   "source": [
    "d) Are students who practice sport better at math exams or worse? Using linear regression, model the MathScore using only one feature: PracticeSport. Don't include intercept. Using summary, decide which students do the best at math exams - those who never practice sport, sometimes practice sport or those who do it regularly?"
   ]
  },
  {
   "cell_type": "code",
   "execution_count": 10,
   "metadata": {},
   "outputs": [
    {
     "name": "stdout",
     "output_type": "stream",
     "text": [
      "                            OLS Regression Results                            \n",
      "==============================================================================\n",
      "Dep. Variable:              MathScore   R-squared:                       0.006\n",
      "Model:                            OLS   Adj. R-squared:                  0.006\n",
      "Method:                 Least Squares   F-statistic:                     77.53\n",
      "Date:                Wed, 03 Jan 2024   Prob (F-statistic):           2.67e-34\n",
      "Time:                        18:50:59   Log-Likelihood:            -1.0851e+05\n",
      "No. Observations:               26163   AIC:                         2.170e+05\n",
      "Df Residuals:                   26160   BIC:                         2.171e+05\n",
      "Df Model:                           2                                         \n",
      "Covariance Type:            nonrobust                                         \n",
      "=======================================================================================\n",
      "                          coef    std err          t      P>|t|      [0.025      0.975]\n",
      "---------------------------------------------------------------------------------------\n",
      "C(PracticeSport)[0]    64.2424      0.258    249.292      0.000      63.737      64.748\n",
      "C(PracticeSport)[1]    67.8932      0.158    428.877      0.000      67.583      68.204\n",
      "C(PracticeSport)[2]    66.3139      0.133    498.953      0.000      66.053      66.574\n",
      "==============================================================================\n",
      "Omnibus:                      214.707   Durbin-Watson:                   1.995\n",
      "Prob(Omnibus):                  0.000   Jarque-Bera (JB):              195.252\n",
      "Skew:                          -0.171   Prob(JB):                     3.99e-43\n",
      "Kurtosis:                       2.750   Cond. No.                         1.94\n",
      "==============================================================================\n",
      "\n",
      "Notes:\n",
      "[1] Standard Errors assume that the covariance matrix of the errors is correctly specified.\n"
     ]
    }
   ],
   "source": [
    "# Declare the model\n",
    "mod = smf.ols(formula='MathScore ~ C(PracticeSport) -1', data=df)\n",
    "\n",
    "# Fits the model\n",
    "res = mod.fit()\n",
    "\n",
    "# Print the summary\n",
    "print(res.summary())"
   ]
  },
  {
   "cell_type": "markdown",
   "metadata": {},
   "source": [
    "Knowing that 0 is never, 1 is regularlly and 2 is sometimes, we can conclude that students who do sport regularly have the best math score."
   ]
  }
 ],
 "metadata": {
  "interpreter": {
   "hash": "e7370f93d1d0cde622a1f8e1c04877d8463912d04d973331ad4851f04de6915a"
  },
  "kernelspec": {
   "display_name": "Python 3 (ipykernel)",
   "language": "python",
   "name": "python3"
  },
  "language_info": {
   "codemirror_mode": {
    "name": "ipython",
    "version": 3
   },
   "file_extension": ".py",
   "mimetype": "text/x-python",
   "name": "python",
   "nbconvert_exporter": "python",
   "pygments_lexer": "ipython3",
   "version": "3.12.0"
  }
 },
 "nbformat": 4,
 "nbformat_minor": 2
}
